{
 "cells": [
  {
   "cell_type": "code",
   "execution_count": 104,
   "id": "343af262-fcb0-43a4-9c22-1f511d0bcece",
   "metadata": {
    "scrolled": true
   },
   "outputs": [
    {
     "name": "stdout",
     "output_type": "stream",
     "text": [
      "(95, 62)is the least solution of 23x^2 - 54y^2 = -1\n",
      "23x^2 - 54y^2 = 1 is not solvable\n"
     ]
    }
   ],
   "source": [
    "def pellab_with_sage(a, b):\n",
    "    \"\"\"\n",
    "    Finds the least solution of Pell's equation: a*x^2 - b*y^2 = ±1\n",
    "    Conditions:\n",
    "        b > a > 1\n",
    "        gcd(a, b) = 1\n",
    "    \"\"\"\n",
    "    if a >= b:\n",
    "        print(\"a >= b\")\n",
    "        return None\n",
    "    if a == 1:\n",
    "        print(\"a = 1\")\n",
    "        return None\n",
    "    if gcd(a, b) > 1:\n",
    "        print(\"gcd(a, b) > 1\")\n",
    "        return None\n",
    "        \n",
    "    d = a * b\n",
    "    if d.is_square():\n",
    "        print(\"ab is a perfect square\")\n",
    "        return None\n",
    "\n",
    "\n",
    "    #find the period of the irrational alpha = sqrt(b/a)\n",
    "    K.<sqrtalpha> = QuadraticField(b/a)\n",
    "    cf = continued_fraction(sqrtalpha)\n",
    "    l = cf.period_length()\n",
    "    h = l/2\n",
    "\n",
    "    #check if period l is even, ie l= 2h, and if Q_h, the denominator of the h-th\n",
    "    #complete quotient, = 1 (only soluble case)\n",
    "    if not l % 2:\n",
    "        conv = cf.convergent(h-1)\n",
    "        if h % 2: \n",
    "            print(f\"{(conv.numerator(), conv.denominator())}is the least solution of {a}x^2 - {b}y^2 = -1\")\n",
    "            print(f\"{a}x^2 - {b}y^2 = 1 is not solvable\")\n",
    "            return None\n",
    "        else: \n",
    "            print(f\"{(conv.numerator(), conv.denominator())} is the least solution of {a}x^2 - {b}y^2 = 1\")\n",
    "            print(f\"{a}x^2 - {b}y^2 = -1 is not solvable\")\n",
    "            return None\n",
    "    else: \n",
    "        print(\"No sols!\")\n",
    "        return 0\n",
    "    \n",
    "#check if period l is even, ie l= 2h and Q_h = 1 --> only soluble case\n",
    "#where Q_h is the denom of the h-th complete quotient of alpha\n",
    "#(Ah-1, Bh-1) is the least positive solutions\n",
    "\n",
    "#if h odd, -1 sol 1 not sol\n",
    "#if h even, 1 sol, -1 not sol\n",
    "\n",
    "\n",
    "pellab_with_sage(23,54)"
   ]
  },
  {
   "cell_type": "code",
   "execution_count": 97,
   "id": "d1f3a705-4db6-40d8-bae8-8f4b4ca792a9",
   "metadata": {},
   "outputs": [],
   "source": [
    "c = continued_fraction(RR(sqrt(5)))\n",
    "K.<sqrtalpha> = QuadraticField(5)\n",
    "d = continued_fraction(sqrtalpha)"
   ]
  },
  {
   "cell_type": "code",
   "execution_count": 98,
   "id": "283fa2a4-9a15-4e3c-afde-e423d64d0ea9",
   "metadata": {},
   "outputs": [
    {
     "data": {
      "text/plain": [
       "<class 'sage.rings.continued_fraction.ContinuedFraction_periodic'>"
      ]
     },
     "execution_count": 98,
     "metadata": {},
     "output_type": "execute_result"
    }
   ],
   "source": [
    "type(c)"
   ]
  },
  {
   "cell_type": "code",
   "execution_count": 99,
   "id": "11277c0d-869e-49ac-9ba4-85755e4b5649",
   "metadata": {},
   "outputs": [
    {
     "data": {
      "text/plain": [
       "\u001b[0;31mSignature:\u001b[0m \u001b[0mcontinued_fraction\u001b[0m\u001b[0;34m(\u001b[0m\u001b[0mx\u001b[0m\u001b[0;34m,\u001b[0m \u001b[0mvalue\u001b[0m\u001b[0;34m=\u001b[0m\u001b[0;32mNone\u001b[0m\u001b[0;34m)\u001b[0m\u001b[0;34m\u001b[0m\u001b[0;34m\u001b[0m\u001b[0m\n",
       "\u001b[0;31mDocstring:\u001b[0m\n",
       "   Return the continued fraction of x.\n",
       "\n",
       "   INPUT:\n",
       "\n",
       "   * \"x\" -- a number or a list of partial quotients (for finite\n",
       "     development) or two list of partial quotients (preperiod and\n",
       "     period for ultimately periodic development)\n",
       "\n",
       "   EXAMPLES:\n",
       "\n",
       "   A finite continued fraction may be initialized by a number or by\n",
       "   its list of partial quotients:\n",
       "\n",
       "      sage: continued_fraction(12/571)\n",
       "      [0; 47, 1, 1, 2, 2]\n",
       "      sage: continued_fraction([3,2,1,4])\n",
       "      [3; 2, 1, 4]\n",
       "\n",
       "   It can be called with elements defined from symbolic values, in\n",
       "   which case the partial quotients are evaluated in a lazy way:\n",
       "\n",
       "      sage: c = continued_fraction(golden_ratio); c\n",
       "      [1; 1, 1, 1, 1, 1, 1, 1, 1, 1, 1, 1, 1, 1, 1, 1, 1, 1, 1, 1, ...]\n",
       "      sage: c.convergent(12)\n",
       "      377/233\n",
       "      sage: fibonacci(14)/fibonacci(13)\n",
       "      377/233\n",
       "\n",
       "      sage: continued_fraction(pi)\n",
       "      [3; 7, 15, 1, 292, 1, 1, 1, 2, 1, 3, 1, 14, 2, 1, 1, 2, 2, 2, 2, ...]\n",
       "      sage: c = continued_fraction(pi); c\n",
       "      [3; 7, 15, 1, 292, 1, 1, 1, 2, 1, 3, 1, 14, 2, 1, 1, 2, 2, 2, 2, ...]\n",
       "      sage: a = c.convergent(3); a\n",
       "      355/113\n",
       "      sage: a.n()\n",
       "      3.14159292035398\n",
       "      sage: pi.n()\n",
       "      3.14159265358979\n",
       "\n",
       "      sage: continued_fraction(sqrt(2))\n",
       "      [1; 2, 2, 2, 2, 2, 2, 2, 2, 2, 2, 2, 2, 2, 2, 2, 2, 2, 2, 2, ...]\n",
       "      sage: continued_fraction(tan(1))\n",
       "      [1; 1, 1, 3, 1, 5, 1, 7, 1, 9, 1, 11, 1, 13, 1, 15, 1, 17, 1, 19, ...]\n",
       "      sage: continued_fraction(tanh(1))\n",
       "      [0; 1, 3, 5, 7, 9, 11, 13, 15, 17, 19, 21, 23, 25, 27, 29, 31, 33, 35, 37, ...]\n",
       "      sage: continued_fraction(e)\n",
       "      [2; 1, 2, 1, 1, 4, 1, 1, 6, 1, 1, 8, 1, 1, 10, 1, 1, 12, 1, 1, ...]\n",
       "\n",
       "   If you want to play with quadratic numbers (such as \"golden_ratio\"\n",
       "   and \"sqrt(2)\" above), it is much more convenient to use number\n",
       "   fields as follows since preperiods and periods are computed:\n",
       "\n",
       "      sage: x = polygen(ZZ, 'x')\n",
       "      sage: K.<sqrt5> = NumberField(x^2 - 5, embedding=2.23)\n",
       "      sage: my_golden_ratio = (1 + sqrt5)/2\n",
       "      sage: cf = continued_fraction((1+sqrt5)/2); cf\n",
       "      [(1)*]\n",
       "      sage: cf.convergent(12)\n",
       "      377/233\n",
       "      sage: cf.period()\n",
       "      (1,)\n",
       "      sage: cf = continued_fraction(2/3+sqrt5/5); cf\n",
       "      [1; 8, (1, 3, 1, 1, 3, 9)*]\n",
       "      sage: cf.preperiod()\n",
       "      (1, 8)\n",
       "      sage: cf.period()\n",
       "      (1, 3, 1, 1, 3, 9)\n",
       "\n",
       "      sage: L.<sqrt2> = NumberField(x^2 - 2, embedding=1.41)\n",
       "      sage: cf = continued_fraction(sqrt2); cf\n",
       "      [1; (2)*]\n",
       "      sage: cf.period()\n",
       "      (2,)\n",
       "      sage: cf = continued_fraction(sqrt2/3); cf\n",
       "      [0; 2, (8, 4)*]\n",
       "      sage: cf.period()\n",
       "      (8, 4)\n",
       "\n",
       "   It is also possible to go the other way around, build a ultimately\n",
       "   periodic continued fraction from its preperiod and its period and\n",
       "   get its value back:\n",
       "\n",
       "      sage: cf = continued_fraction([(1,1), (2,8)]); cf\n",
       "      [1; 1, (2, 8)*]\n",
       "      sage: cf.value()\n",
       "      2/11*sqrt5 + 14/11\n",
       "\n",
       "   It is possible to deal with higher degree number fields but in that\n",
       "   case the continued fraction expansion is known to be aperiodic:\n",
       "\n",
       "      sage: K.<a> = NumberField(x^3 - 2, embedding=1.25)\n",
       "      sage: cf = continued_fraction(a); cf\n",
       "      [1; 3, 1, 5, 1, 1, 4, 1, 1, 8, 1, 14, 1, 10, 2, 1, 4, 12, 2, 3, ...]\n",
       "\n",
       "   Note that initial rounding can result in incorrect trailing partial\n",
       "   quotients:\n",
       "\n",
       "      sage: continued_fraction(RealField(39)(e))\n",
       "      [2; 1, 2, 1, 1, 4, 1, 1, 6, 1, 1, 8, 1, 1, 10, 2]\n",
       "\n",
       "   Note the value returned for floating point number is the continued\n",
       "   fraction associated to the rational number you obtain with a\n",
       "   conversion:\n",
       "\n",
       "      sage: for _ in range(10):\n",
       "      ....:     x = RR.random_element()\n",
       "      ....:     cff = continued_fraction(x)\n",
       "      ....:     cfe = QQ(x).continued_fraction()\n",
       "      ....:     assert cff == cfe, \"%s %s %s\"%(x,cff,cfe)\n",
       "\u001b[0;31mSource:\u001b[0m   \n",
       "\u001b[0;32mdef\u001b[0m \u001b[0mcontinued_fraction\u001b[0m\u001b[0;34m(\u001b[0m\u001b[0mx\u001b[0m\u001b[0;34m,\u001b[0m \u001b[0mvalue\u001b[0m\u001b[0;34m=\u001b[0m\u001b[0;32mNone\u001b[0m\u001b[0;34m)\u001b[0m\u001b[0;34m:\u001b[0m\u001b[0;34m\u001b[0m\n",
       "\u001b[0;34m\u001b[0m    \u001b[0;34mr\"\"\"\u001b[0m\n",
       "\u001b[0;34m    Return the continued fraction of `x`.\u001b[0m\n",
       "\u001b[0;34m\u001b[0m\n",
       "\u001b[0;34m    INPUT:\u001b[0m\n",
       "\u001b[0;34m\u001b[0m\n",
       "\u001b[0;34m    - ``x`` -- a number or a list of partial quotients (for finite\u001b[0m\n",
       "\u001b[0;34m      development) or two list of partial quotients (preperiod and period\u001b[0m\n",
       "\u001b[0;34m      for ultimately periodic development)\u001b[0m\n",
       "\u001b[0;34m\u001b[0m\n",
       "\u001b[0;34m    EXAMPLES:\u001b[0m\n",
       "\u001b[0;34m\u001b[0m\n",
       "\u001b[0;34m    A finite continued fraction may be initialized by a number or by its list of\u001b[0m\n",
       "\u001b[0;34m    partial quotients::\u001b[0m\n",
       "\u001b[0;34m\u001b[0m\n",
       "\u001b[0;34m        sage: continued_fraction(12/571)\u001b[0m\n",
       "\u001b[0;34m        [0; 47, 1, 1, 2, 2]\u001b[0m\n",
       "\u001b[0;34m        sage: continued_fraction([3,2,1,4])\u001b[0m\n",
       "\u001b[0;34m        [3; 2, 1, 4]\u001b[0m\n",
       "\u001b[0;34m\u001b[0m\n",
       "\u001b[0;34m    It can be called with elements defined from symbolic values, in which case\u001b[0m\n",
       "\u001b[0;34m    the partial quotients are evaluated in a lazy way::\u001b[0m\n",
       "\u001b[0;34m\u001b[0m\n",
       "\u001b[0;34m        sage: c = continued_fraction(golden_ratio); c                                   # needs sage.symbolic\u001b[0m\n",
       "\u001b[0;34m        [1; 1, 1, 1, 1, 1, 1, 1, 1, 1, 1, 1, 1, 1, 1, 1, 1, 1, 1, 1, ...]\u001b[0m\n",
       "\u001b[0;34m        sage: c.convergent(12)                                                          # needs sage.symbolic\u001b[0m\n",
       "\u001b[0;34m        377/233\u001b[0m\n",
       "\u001b[0;34m        sage: fibonacci(14)/fibonacci(13)                                               # needs sage.libs.pari\u001b[0m\n",
       "\u001b[0;34m        377/233\u001b[0m\n",
       "\u001b[0;34m\u001b[0m\n",
       "\u001b[0;34m        sage: # needs sage.symbolic\u001b[0m\n",
       "\u001b[0;34m        sage: continued_fraction(pi)\u001b[0m\n",
       "\u001b[0;34m        [3; 7, 15, 1, 292, 1, 1, 1, 2, 1, 3, 1, 14, 2, 1, 1, 2, 2, 2, 2, ...]\u001b[0m\n",
       "\u001b[0;34m        sage: c = continued_fraction(pi); c\u001b[0m\n",
       "\u001b[0;34m        [3; 7, 15, 1, 292, 1, 1, 1, 2, 1, 3, 1, 14, 2, 1, 1, 2, 2, 2, 2, ...]\u001b[0m\n",
       "\u001b[0;34m        sage: a = c.convergent(3); a\u001b[0m\n",
       "\u001b[0;34m        355/113\u001b[0m\n",
       "\u001b[0;34m        sage: a.n()\u001b[0m\n",
       "\u001b[0;34m        3.14159292035398\u001b[0m\n",
       "\u001b[0;34m        sage: pi.n()\u001b[0m\n",
       "\u001b[0;34m        3.14159265358979\u001b[0m\n",
       "\u001b[0;34m\u001b[0m\n",
       "\u001b[0;34m        sage: # needs sage.symbolic\u001b[0m\n",
       "\u001b[0;34m        sage: continued_fraction(sqrt(2))\u001b[0m\n",
       "\u001b[0;34m        [1; 2, 2, 2, 2, 2, 2, 2, 2, 2, 2, 2, 2, 2, 2, 2, 2, 2, 2, 2, ...]\u001b[0m\n",
       "\u001b[0;34m        sage: continued_fraction(tan(1))\u001b[0m\n",
       "\u001b[0;34m        [1; 1, 1, 3, 1, 5, 1, 7, 1, 9, 1, 11, 1, 13, 1, 15, 1, 17, 1, 19, ...]\u001b[0m\n",
       "\u001b[0;34m        sage: continued_fraction(tanh(1))\u001b[0m\n",
       "\u001b[0;34m        [0; 1, 3, 5, 7, 9, 11, 13, 15, 17, 19, 21, 23, 25, 27, 29, 31, 33, 35, 37, ...]\u001b[0m\n",
       "\u001b[0;34m        sage: continued_fraction(e)\u001b[0m\n",
       "\u001b[0;34m        [2; 1, 2, 1, 1, 4, 1, 1, 6, 1, 1, 8, 1, 1, 10, 1, 1, 12, 1, 1, ...]\u001b[0m\n",
       "\u001b[0;34m\u001b[0m\n",
       "\u001b[0;34m    If you want to play with quadratic numbers (such as ``golden_ratio`` and\u001b[0m\n",
       "\u001b[0;34m    ``sqrt(2)`` above), it is much more convenient to use number fields as\u001b[0m\n",
       "\u001b[0;34m    follows since preperiods and periods are computed::\u001b[0m\n",
       "\u001b[0;34m\u001b[0m\n",
       "\u001b[0;34m        sage: # needs sage.rings.number_field\u001b[0m\n",
       "\u001b[0;34m        sage: x = polygen(ZZ, 'x')\u001b[0m\n",
       "\u001b[0;34m        sage: K.<sqrt5> = NumberField(x^2 - 5, embedding=2.23)\u001b[0m\n",
       "\u001b[0;34m        sage: my_golden_ratio = (1 + sqrt5)/2\u001b[0m\n",
       "\u001b[0;34m        sage: cf = continued_fraction((1+sqrt5)/2); cf\u001b[0m\n",
       "\u001b[0;34m        [(1)*]\u001b[0m\n",
       "\u001b[0;34m        sage: cf.convergent(12)\u001b[0m\n",
       "\u001b[0;34m        377/233\u001b[0m\n",
       "\u001b[0;34m        sage: cf.period()\u001b[0m\n",
       "\u001b[0;34m        (1,)\u001b[0m\n",
       "\u001b[0;34m        sage: cf = continued_fraction(2/3+sqrt5/5); cf\u001b[0m\n",
       "\u001b[0;34m        [1; 8, (1, 3, 1, 1, 3, 9)*]\u001b[0m\n",
       "\u001b[0;34m        sage: cf.preperiod()\u001b[0m\n",
       "\u001b[0;34m        (1, 8)\u001b[0m\n",
       "\u001b[0;34m        sage: cf.period()\u001b[0m\n",
       "\u001b[0;34m        (1, 3, 1, 1, 3, 9)\u001b[0m\n",
       "\u001b[0;34m\u001b[0m\n",
       "\u001b[0;34m        sage: # needs sage.rings.number_field\u001b[0m\n",
       "\u001b[0;34m        sage: L.<sqrt2> = NumberField(x^2 - 2, embedding=1.41)\u001b[0m\n",
       "\u001b[0;34m        sage: cf = continued_fraction(sqrt2); cf\u001b[0m\n",
       "\u001b[0;34m        [1; (2)*]\u001b[0m\n",
       "\u001b[0;34m        sage: cf.period()\u001b[0m\n",
       "\u001b[0;34m        (2,)\u001b[0m\n",
       "\u001b[0;34m        sage: cf = continued_fraction(sqrt2/3); cf\u001b[0m\n",
       "\u001b[0;34m        [0; 2, (8, 4)*]\u001b[0m\n",
       "\u001b[0;34m        sage: cf.period()\u001b[0m\n",
       "\u001b[0;34m        (8, 4)\u001b[0m\n",
       "\u001b[0;34m\u001b[0m\n",
       "\u001b[0;34m    It is also possible to go the other way around, build a ultimately periodic\u001b[0m\n",
       "\u001b[0;34m    continued fraction from its preperiod and its period and get its value\u001b[0m\n",
       "\u001b[0;34m    back::\u001b[0m\n",
       "\u001b[0;34m\u001b[0m\n",
       "\u001b[0;34m        sage: cf = continued_fraction([(1,1), (2,8)]); cf\u001b[0m\n",
       "\u001b[0;34m        [1; 1, (2, 8)*]\u001b[0m\n",
       "\u001b[0;34m        sage: cf.value()                                                                # needs sage.rings.number_field\u001b[0m\n",
       "\u001b[0;34m        2/11*sqrt5 + 14/11\u001b[0m\n",
       "\u001b[0;34m\u001b[0m\n",
       "\u001b[0;34m    It is possible to deal with higher degree number fields but in that case the\u001b[0m\n",
       "\u001b[0;34m    continued fraction expansion is known to be aperiodic::\u001b[0m\n",
       "\u001b[0;34m\u001b[0m\n",
       "\u001b[0;34m        sage: K.<a> = NumberField(x^3 - 2, embedding=1.25)                              # needs sage.rings.number_field\u001b[0m\n",
       "\u001b[0;34m        sage: cf = continued_fraction(a); cf                                            # needs sage.rings.number_field\u001b[0m\n",
       "\u001b[0;34m        [1; 3, 1, 5, 1, 1, 4, 1, 1, 8, 1, 14, 1, 10, 2, 1, 4, 12, 2, 3, ...]\u001b[0m\n",
       "\u001b[0;34m\u001b[0m\n",
       "\u001b[0;34m    Note that initial rounding can result in incorrect trailing partial\u001b[0m\n",
       "\u001b[0;34m    quotients::\u001b[0m\n",
       "\u001b[0;34m\u001b[0m\n",
       "\u001b[0;34m        sage: continued_fraction(RealField(39)(e))                                      # needs sage.symbolic\u001b[0m\n",
       "\u001b[0;34m        [2; 1, 2, 1, 1, 4, 1, 1, 6, 1, 1, 8, 1, 1, 10, 2]\u001b[0m\n",
       "\u001b[0;34m\u001b[0m\n",
       "\u001b[0;34m    Note the value returned for floating point number is the continued fraction\u001b[0m\n",
       "\u001b[0;34m    associated to the rational number you obtain with a conversion::\u001b[0m\n",
       "\u001b[0;34m\u001b[0m\n",
       "\u001b[0;34m        sage: for _ in range(10):\u001b[0m\n",
       "\u001b[0;34m        ....:     x = RR.random_element()\u001b[0m\n",
       "\u001b[0;34m        ....:     cff = continued_fraction(x)\u001b[0m\n",
       "\u001b[0;34m        ....:     cfe = QQ(x).continued_fraction()\u001b[0m\n",
       "\u001b[0;34m        ....:     assert cff == cfe, \"%s %s %s\"%(x,cff,cfe)\u001b[0m\n",
       "\u001b[0;34m\u001b[0m\n",
       "\u001b[0;34m    TESTS:\u001b[0m\n",
       "\u001b[0;34m\u001b[0m\n",
       "\u001b[0;34m    Fixed :issue:`18901`. For RealLiteral, continued_fraction calls\u001b[0m\n",
       "\u001b[0;34m    continued_fraction_list::\u001b[0m\n",
       "\u001b[0;34m\u001b[0m\n",
       "\u001b[0;34m        sage: continued_fraction(1.575709393346379)\u001b[0m\n",
       "\u001b[0;34m        [1; 1, 1, 2, 1, 4, 18, 1, 5, 2, 25037802, 7, 1, 3, 1, 28, 1, 8, 2]\u001b[0m\n",
       "\u001b[0;34m\u001b[0m\n",
       "\u001b[0;34m    Constants in symbolic subrings work like constants in ``SR``::\u001b[0m\n",
       "\u001b[0;34m\u001b[0m\n",
       "\u001b[0;34m        sage: SCR = SR.subring(no_variables=True)                                       # needs sage.symbolic\u001b[0m\n",
       "\u001b[0;34m        sage: continued_fraction(SCR(pi))                                               # needs sage.symbolic\u001b[0m\n",
       "\u001b[0;34m        [3; 7, 15, 1, 292, 1, 1, 1, 2, 1, 3, 1, 14, 2, 1, 1, 2, 2, 2, 2, ...]\u001b[0m\n",
       "\u001b[0;34m    \"\"\"\u001b[0m\u001b[0;34m\u001b[0m\n",
       "\u001b[0;34m\u001b[0m\u001b[0;34m\u001b[0m\n",
       "\u001b[0;34m\u001b[0m    \u001b[0;32mif\u001b[0m \u001b[0misinstance\u001b[0m\u001b[0;34m(\u001b[0m\u001b[0mx\u001b[0m\u001b[0;34m,\u001b[0m \u001b[0mContinuedFraction_base\u001b[0m\u001b[0;34m)\u001b[0m\u001b[0;34m:\u001b[0m\u001b[0;34m\u001b[0m\n",
       "\u001b[0;34m\u001b[0m        \u001b[0;32mreturn\u001b[0m \u001b[0mx\u001b[0m\u001b[0;34m\u001b[0m\n",
       "\u001b[0;34m\u001b[0m\u001b[0;34m\u001b[0m\n",
       "\u001b[0;34m\u001b[0m    \u001b[0;32mtry\u001b[0m\u001b[0;34m:\u001b[0m\u001b[0;34m\u001b[0m\n",
       "\u001b[0;34m\u001b[0m        \u001b[0;32mreturn\u001b[0m \u001b[0mx\u001b[0m\u001b[0;34m.\u001b[0m\u001b[0mcontinued_fraction\u001b[0m\u001b[0;34m(\u001b[0m\u001b[0;34m)\u001b[0m\u001b[0;34m\u001b[0m\n",
       "\u001b[0;34m\u001b[0m    \u001b[0;32mexcept\u001b[0m \u001b[0mAttributeError\u001b[0m\u001b[0;34m:\u001b[0m\u001b[0;34m\u001b[0m\n",
       "\u001b[0;34m\u001b[0m        \u001b[0;32mpass\u001b[0m\u001b[0;34m\u001b[0m\n",
       "\u001b[0;34m\u001b[0m\u001b[0;34m\u001b[0m\n",
       "\u001b[0;34m\u001b[0m    \u001b[0;31m# input for finite or ultimately periodic partial quotient expansion\u001b[0m\u001b[0;34m\u001b[0m\n",
       "\u001b[0;34m\u001b[0m    \u001b[0;32mif\u001b[0m \u001b[0misinstance\u001b[0m\u001b[0;34m(\u001b[0m\u001b[0mx\u001b[0m\u001b[0;34m,\u001b[0m \u001b[0mFiniteWord_class\u001b[0m\u001b[0;34m)\u001b[0m\u001b[0;34m:\u001b[0m\u001b[0;34m\u001b[0m\n",
       "\u001b[0;34m\u001b[0m        \u001b[0mx\u001b[0m \u001b[0;34m=\u001b[0m \u001b[0mlist\u001b[0m\u001b[0;34m(\u001b[0m\u001b[0mx\u001b[0m\u001b[0;34m)\u001b[0m\u001b[0;34m\u001b[0m\n",
       "\u001b[0;34m\u001b[0m\u001b[0;34m\u001b[0m\n",
       "\u001b[0;34m\u001b[0m    \u001b[0;32mif\u001b[0m \u001b[0misinstance\u001b[0m\u001b[0;34m(\u001b[0m\u001b[0mx\u001b[0m\u001b[0;34m,\u001b[0m \u001b[0;34m(\u001b[0m\u001b[0mlist\u001b[0m\u001b[0;34m,\u001b[0m \u001b[0mtuple\u001b[0m\u001b[0;34m)\u001b[0m\u001b[0;34m)\u001b[0m\u001b[0;34m:\u001b[0m\u001b[0;34m\u001b[0m\n",
       "\u001b[0;34m\u001b[0m        \u001b[0;32mif\u001b[0m \u001b[0mlen\u001b[0m\u001b[0;34m(\u001b[0m\u001b[0mx\u001b[0m\u001b[0;34m)\u001b[0m \u001b[0;34m==\u001b[0m \u001b[0;36m2\u001b[0m \u001b[0;32mand\u001b[0m \u001b[0misinstance\u001b[0m\u001b[0;34m(\u001b[0m\u001b[0mx\u001b[0m\u001b[0;34m[\u001b[0m\u001b[0;36m0\u001b[0m\u001b[0;34m]\u001b[0m\u001b[0;34m,\u001b[0m \u001b[0;34m(\u001b[0m\u001b[0mlist\u001b[0m\u001b[0;34m,\u001b[0m \u001b[0mtuple\u001b[0m\u001b[0;34m)\u001b[0m\u001b[0;34m)\u001b[0m \u001b[0;32mand\u001b[0m \u001b[0misinstance\u001b[0m\u001b[0;34m(\u001b[0m\u001b[0mx\u001b[0m\u001b[0;34m[\u001b[0m\u001b[0;36m1\u001b[0m\u001b[0;34m]\u001b[0m\u001b[0;34m,\u001b[0m \u001b[0;34m(\u001b[0m\u001b[0mlist\u001b[0m\u001b[0;34m,\u001b[0m \u001b[0mtuple\u001b[0m\u001b[0;34m)\u001b[0m\u001b[0;34m)\u001b[0m\u001b[0;34m:\u001b[0m\u001b[0;34m\u001b[0m\n",
       "\u001b[0;34m\u001b[0m            \u001b[0mx1\u001b[0m \u001b[0;34m=\u001b[0m \u001b[0mtuple\u001b[0m\u001b[0;34m(\u001b[0m\u001b[0mInteger\u001b[0m\u001b[0;34m(\u001b[0m\u001b[0ma\u001b[0m\u001b[0;34m)\u001b[0m \u001b[0;32mfor\u001b[0m \u001b[0ma\u001b[0m \u001b[0;32min\u001b[0m \u001b[0mx\u001b[0m\u001b[0;34m[\u001b[0m\u001b[0;36m0\u001b[0m\u001b[0;34m]\u001b[0m\u001b[0;34m)\u001b[0m\u001b[0;34m\u001b[0m\n",
       "\u001b[0;34m\u001b[0m            \u001b[0mx2\u001b[0m \u001b[0;34m=\u001b[0m \u001b[0mtuple\u001b[0m\u001b[0;34m(\u001b[0m\u001b[0mInteger\u001b[0m\u001b[0;34m(\u001b[0m\u001b[0ma\u001b[0m\u001b[0;34m)\u001b[0m \u001b[0;32mfor\u001b[0m \u001b[0ma\u001b[0m \u001b[0;32min\u001b[0m \u001b[0mx\u001b[0m\u001b[0;34m[\u001b[0m\u001b[0;36m1\u001b[0m\u001b[0;34m]\u001b[0m\u001b[0;34m)\u001b[0m\u001b[0;34m\u001b[0m\n",
       "\u001b[0;34m\u001b[0m            \u001b[0mx1\u001b[0m\u001b[0;34m,\u001b[0m \u001b[0mx2\u001b[0m \u001b[0;34m=\u001b[0m \u001b[0mcheck_and_reduce_pair\u001b[0m\u001b[0;34m(\u001b[0m\u001b[0mx1\u001b[0m\u001b[0;34m,\u001b[0m \u001b[0mx2\u001b[0m\u001b[0;34m)\u001b[0m\u001b[0;34m\u001b[0m\n",
       "\u001b[0;34m\u001b[0m        \u001b[0;32melse\u001b[0m\u001b[0;34m:\u001b[0m\u001b[0;34m\u001b[0m\n",
       "\u001b[0;34m\u001b[0m            \u001b[0mx1\u001b[0m\u001b[0;34m,\u001b[0m \u001b[0mx2\u001b[0m \u001b[0;34m=\u001b[0m \u001b[0mcheck_and_reduce_pair\u001b[0m\u001b[0;34m(\u001b[0m\u001b[0mx\u001b[0m\u001b[0;34m)\u001b[0m\u001b[0;34m\u001b[0m\n",
       "\u001b[0;34m\u001b[0m        \u001b[0;32mreturn\u001b[0m \u001b[0mContinuedFraction_periodic\u001b[0m\u001b[0;34m(\u001b[0m\u001b[0mx1\u001b[0m\u001b[0;34m,\u001b[0m \u001b[0mx2\u001b[0m\u001b[0;34m)\u001b[0m\u001b[0;34m\u001b[0m\n",
       "\u001b[0;34m\u001b[0m\u001b[0;34m\u001b[0m\n",
       "\u001b[0;34m\u001b[0m    \u001b[0;31m# input for infinite partial quotient expansion\u001b[0m\u001b[0;34m\u001b[0m\n",
       "\u001b[0;34m\u001b[0m    \u001b[0;32mfrom\u001b[0m \u001b[0msage\u001b[0m\u001b[0;34m.\u001b[0m\u001b[0mmisc\u001b[0m\u001b[0;34m.\u001b[0m\u001b[0mlazy_list\u001b[0m \u001b[0;32mimport\u001b[0m \u001b[0mlazy_list_generic\u001b[0m\u001b[0;34m\u001b[0m\n",
       "\u001b[0;34m\u001b[0m    \u001b[0;32mif\u001b[0m \u001b[0misinstance\u001b[0m\u001b[0;34m(\u001b[0m\u001b[0mx\u001b[0m\u001b[0;34m,\u001b[0m \u001b[0;34m(\u001b[0m\u001b[0mlazy_list_generic\u001b[0m\u001b[0;34m,\u001b[0m \u001b[0mInfiniteWord_class\u001b[0m\u001b[0;34m)\u001b[0m\u001b[0;34m)\u001b[0m\u001b[0;34m:\u001b[0m\u001b[0;34m\u001b[0m\n",
       "\u001b[0;34m\u001b[0m        \u001b[0;32mreturn\u001b[0m \u001b[0mContinuedFraction_infinite\u001b[0m\u001b[0;34m(\u001b[0m\u001b[0mx\u001b[0m\u001b[0;34m,\u001b[0m \u001b[0mvalue\u001b[0m\u001b[0;34m)\u001b[0m\u001b[0;34m\u001b[0m\n",
       "\u001b[0;34m\u001b[0m\u001b[0;34m\u001b[0m\n",
       "\u001b[0;34m\u001b[0m    \u001b[0;32mif\u001b[0m \u001b[0misinstance\u001b[0m\u001b[0;34m(\u001b[0m\u001b[0mx\u001b[0m\u001b[0;34m,\u001b[0m \u001b[0mWord_class\u001b[0m\u001b[0;34m)\u001b[0m\u001b[0;34m:\u001b[0m\u001b[0;34m\u001b[0m\n",
       "\u001b[0;34m\u001b[0m        \u001b[0;32mraise\u001b[0m \u001b[0mValueError\u001b[0m\u001b[0;34m(\u001b[0m\u001b[0;34m\"word with unknown length cannot be converted \"\u001b[0m\u001b[0;34m\u001b[0m\n",
       "\u001b[0;34m\u001b[0m                         \u001b[0;34m\"to continued fractions\"\u001b[0m\u001b[0;34m)\u001b[0m\u001b[0;34m\u001b[0m\n",
       "\u001b[0;34m\u001b[0m\u001b[0;34m\u001b[0m\n",
       "\u001b[0;34m\u001b[0m    \u001b[0;31m# input for numbers\u001b[0m\u001b[0;34m\u001b[0m\n",
       "\u001b[0;34m\u001b[0m    \u001b[0;31m# TODO: the approach used below might be not what the user expects as we\u001b[0m\u001b[0;34m\u001b[0m\n",
       "\u001b[0;34m\u001b[0m    \u001b[0;31m# have currently in sage (version 6.8)\u001b[0m\u001b[0;34m\u001b[0m\n",
       "\u001b[0;34m\u001b[0m    \u001b[0;31m#\u001b[0m\u001b[0;34m\u001b[0m\n",
       "\u001b[0;34m\u001b[0m    \u001b[0;31m#     sage: RR.random_element() in QQ\u001b[0m\u001b[0;34m\u001b[0m\n",
       "\u001b[0;34m\u001b[0m    \u001b[0;31m#     True\u001b[0m\u001b[0;34m\u001b[0m\n",
       "\u001b[0;34m\u001b[0m    \u001b[0;31m#\u001b[0m\u001b[0;34m\u001b[0m\n",
       "\u001b[0;34m\u001b[0m    \u001b[0;31m# But, be careful with real literals\u001b[0m\u001b[0;34m\u001b[0m\n",
       "\u001b[0;34m\u001b[0m    \u001b[0;31m#\u001b[0m\u001b[0;34m\u001b[0m\n",
       "\u001b[0;34m\u001b[0m    \u001b[0;31m#     sage: a = 1.575709393346379\u001b[0m\u001b[0;34m\u001b[0m\n",
       "\u001b[0;34m\u001b[0m    \u001b[0;31m#     sage: a in QQ\u001b[0m\u001b[0;34m\u001b[0m\n",
       "\u001b[0;34m\u001b[0m    \u001b[0;31m#     False\u001b[0m\u001b[0;34m\u001b[0m\n",
       "\u001b[0;34m\u001b[0m    \u001b[0;32mfrom\u001b[0m \u001b[0;34m.\u001b[0m\u001b[0mrational_field\u001b[0m \u001b[0;32mimport\u001b[0m \u001b[0mQQ\u001b[0m\u001b[0;34m\u001b[0m\n",
       "\u001b[0;34m\u001b[0m    \u001b[0;32mif\u001b[0m \u001b[0mx\u001b[0m \u001b[0;32min\u001b[0m \u001b[0mQQ\u001b[0m\u001b[0;34m:\u001b[0m\u001b[0;34m\u001b[0m\n",
       "\u001b[0;34m\u001b[0m        \u001b[0;32mreturn\u001b[0m \u001b[0mQQ\u001b[0m\u001b[0;34m(\u001b[0m\u001b[0mx\u001b[0m\u001b[0;34m)\u001b[0m\u001b[0;34m.\u001b[0m\u001b[0mcontinued_fraction\u001b[0m\u001b[0;34m(\u001b[0m\u001b[0;34m)\u001b[0m\u001b[0;34m\u001b[0m\n",
       "\u001b[0;34m\u001b[0m\u001b[0;34m\u001b[0m\n",
       "\u001b[0;34m\u001b[0m    \u001b[0mis_real\u001b[0m \u001b[0;34m=\u001b[0m \u001b[0;32mFalse\u001b[0m\u001b[0;34m\u001b[0m\n",
       "\u001b[0;34m\u001b[0m    \u001b[0;32mtry\u001b[0m\u001b[0;34m:\u001b[0m\u001b[0;34m\u001b[0m\n",
       "\u001b[0;34m\u001b[0m        \u001b[0mis_real\u001b[0m \u001b[0;34m=\u001b[0m \u001b[0mx\u001b[0m\u001b[0;34m.\u001b[0m\u001b[0mis_real\u001b[0m\u001b[0;34m(\u001b[0m\u001b[0;34m)\u001b[0m\u001b[0;34m\u001b[0m\n",
       "\u001b[0;34m\u001b[0m    \u001b[0;32mexcept\u001b[0m \u001b[0mAttributeError\u001b[0m\u001b[0;34m:\u001b[0m\u001b[0;34m\u001b[0m\n",
       "\u001b[0;34m\u001b[0m        \u001b[0;32mpass\u001b[0m\u001b[0;34m\u001b[0m\n",
       "\u001b[0;34m\u001b[0m\u001b[0;34m\u001b[0m\n",
       "\u001b[0;34m\u001b[0m    \u001b[0;32mif\u001b[0m \u001b[0mis_real\u001b[0m \u001b[0;32mis\u001b[0m \u001b[0;32mFalse\u001b[0m\u001b[0;34m:\u001b[0m\u001b[0;34m\u001b[0m\n",
       "\u001b[0;34m\u001b[0m        \u001b[0;32mfrom\u001b[0m \u001b[0;34m.\u001b[0m\u001b[0mreal_mpfi\u001b[0m \u001b[0;32mimport\u001b[0m \u001b[0mRealIntervalField\u001b[0m\u001b[0;34m\u001b[0m\n",
       "\u001b[0;34m\u001b[0m        \u001b[0;31m# we cannot rely on the answer of .is_real() for elements of the\u001b[0m\u001b[0;34m\u001b[0m\n",
       "\u001b[0;34m\u001b[0m        \u001b[0;31m# symbolic ring. The thing below is a dirty temporary hack.\u001b[0m\u001b[0;34m\u001b[0m\n",
       "\u001b[0;34m\u001b[0m        \u001b[0mRIF\u001b[0m \u001b[0;34m=\u001b[0m \u001b[0mRealIntervalField\u001b[0m\u001b[0;34m(\u001b[0m\u001b[0;36m53\u001b[0m\u001b[0;34m)\u001b[0m\u001b[0;34m\u001b[0m\n",
       "\u001b[0;34m\u001b[0m        \u001b[0;32mtry\u001b[0m\u001b[0;34m:\u001b[0m\u001b[0;34m\u001b[0m\n",
       "\u001b[0;34m\u001b[0m            \u001b[0mRIF\u001b[0m\u001b[0;34m(\u001b[0m\u001b[0mx\u001b[0m\u001b[0;34m)\u001b[0m\u001b[0;34m\u001b[0m\n",
       "\u001b[0;34m\u001b[0m            \u001b[0mis_real\u001b[0m \u001b[0;34m=\u001b[0m \u001b[0;32mTrue\u001b[0m\u001b[0;34m\u001b[0m\n",
       "\u001b[0;34m\u001b[0m        \u001b[0;32mexcept\u001b[0m \u001b[0;34m(\u001b[0m\u001b[0mAttributeError\u001b[0m\u001b[0;34m,\u001b[0m \u001b[0mValueError\u001b[0m\u001b[0;34m)\u001b[0m\u001b[0;34m:\u001b[0m\u001b[0;34m\u001b[0m\n",
       "\u001b[0;34m\u001b[0m            \u001b[0;32mpass\u001b[0m\u001b[0;34m\u001b[0m\n",
       "\u001b[0;34m\u001b[0m\u001b[0;34m\u001b[0m\n",
       "\u001b[0;34m\u001b[0m    \u001b[0;32mif\u001b[0m \u001b[0mis_real\u001b[0m \u001b[0;32mis\u001b[0m \u001b[0;32mFalse\u001b[0m\u001b[0;34m:\u001b[0m\u001b[0;34m\u001b[0m\n",
       "\u001b[0;34m\u001b[0m        \u001b[0;32mraise\u001b[0m \u001b[0mValueError\u001b[0m\u001b[0;34m(\u001b[0m\u001b[0;34m\"the number %s does not seem to be a real number\"\u001b[0m \u001b[0;34m%\u001b[0m \u001b[0mx\u001b[0m\u001b[0;34m)\u001b[0m\u001b[0;34m\u001b[0m\n",
       "\u001b[0;34m\u001b[0m\u001b[0;34m\u001b[0m\n",
       "\u001b[0;34m\u001b[0m    \u001b[0;32mif\u001b[0m \u001b[0mx\u001b[0m\u001b[0;34m.\u001b[0m\u001b[0mparent\u001b[0m\u001b[0;34m(\u001b[0m\u001b[0;34m)\u001b[0m\u001b[0;34m.\u001b[0m\u001b[0mis_exact\u001b[0m\u001b[0;34m(\u001b[0m\u001b[0;34m)\u001b[0m\u001b[0;34m:\u001b[0m\u001b[0;34m\u001b[0m\n",
       "\u001b[0;34m\u001b[0m        \u001b[0;32mreturn\u001b[0m \u001b[0mContinuedFraction_real\u001b[0m\u001b[0;34m(\u001b[0m\u001b[0mx\u001b[0m\u001b[0;34m)\u001b[0m\u001b[0;34m\u001b[0m\n",
       "\u001b[0;34m\u001b[0m\u001b[0;34m\u001b[0m\n",
       "\u001b[0;34m\u001b[0m    \u001b[0;31m# We treat the Symbolic Ring and its subrings separately.  They hold all constants and\u001b[0m\u001b[0;34m\u001b[0m\n",
       "\u001b[0;34m\u001b[0m    \u001b[0;31m# are not exact.\u001b[0m\u001b[0;34m\u001b[0m\n",
       "\u001b[0;34m\u001b[0m    \u001b[0;32mif\u001b[0m \u001b[0misinstance\u001b[0m\u001b[0;34m(\u001b[0m\u001b[0mx\u001b[0m\u001b[0;34m.\u001b[0m\u001b[0mparent\u001b[0m\u001b[0;34m(\u001b[0m\u001b[0;34m)\u001b[0m\u001b[0;34m,\u001b[0m \u001b[0msage\u001b[0m\u001b[0;34m.\u001b[0m\u001b[0mrings\u001b[0m\u001b[0;34m.\u001b[0m\u001b[0mabc\u001b[0m\u001b[0;34m.\u001b[0m\u001b[0mSymbolicRing\u001b[0m\u001b[0;34m)\u001b[0m\u001b[0;34m:\u001b[0m\u001b[0;34m\u001b[0m\n",
       "\u001b[0;34m\u001b[0m        \u001b[0;32mreturn\u001b[0m \u001b[0mContinuedFraction_real\u001b[0m\u001b[0;34m(\u001b[0m\u001b[0mx\u001b[0m\u001b[0;34m)\u001b[0m\u001b[0;34m\u001b[0m\n",
       "\u001b[0;34m\u001b[0m\u001b[0;34m\u001b[0m\n",
       "\u001b[0;34m\u001b[0m    \u001b[0;32mreturn\u001b[0m \u001b[0mcontinued_fraction\u001b[0m\u001b[0;34m(\u001b[0m\u001b[0mcontinued_fraction_list\u001b[0m\u001b[0;34m(\u001b[0m\u001b[0mx\u001b[0m\u001b[0;34m)\u001b[0m\u001b[0;34m)\u001b[0m\u001b[0;34m\u001b[0m\u001b[0;34m\u001b[0m\u001b[0m\n",
       "\u001b[0;31mFile:\u001b[0m      /private/var/tmp/sage-10.4-current/local/var/lib/sage/venv-python3.12.4/lib/python3.12/site-packages/sage/rings/continued_fraction.py\n",
       "\u001b[0;31mType:\u001b[0m      function"
      ]
     },
     "metadata": {},
     "output_type": "display_data"
    }
   ],
   "source": [
    "continued_fraction??"
   ]
  },
  {
   "cell_type": "code",
   "execution_count": 96,
   "id": "27ef921b-6be4-4c07-9915-26a445aaeb2f",
   "metadata": {},
   "outputs": [
    {
     "data": {
      "text/plain": [
       "1052507017357297790218141170537243148914734837263284111997649002/470695447521293783726635611903144082655700683857517114751079601"
      ]
     },
     "execution_count": 96,
     "metadata": {},
     "output_type": "execute_result"
    }
   ],
   "source": [
    "c.convergent(100)"
   ]
  },
  {
   "cell_type": "code",
   "execution_count": 102,
   "id": "535ec82c-e578-448f-b9f0-e68059b75c51",
   "metadata": {},
   "outputs": [
    {
     "data": {
      "text/plain": [
       "Rational Field"
      ]
     },
     "execution_count": 102,
     "metadata": {},
     "output_type": "execute_result"
    }
   ],
   "source": [
    "(2/1).parent()"
   ]
  },
  {
   "cell_type": "code",
   "execution_count": 95,
   "id": "9f157b74-1bc0-4ca7-a10c-c9fb27ca016a",
   "metadata": {},
   "outputs": [
    {
     "data": {
      "text/plain": [
       "1052507017357297790218141170537243148914734837263284111997649002/470695447521293783726635611903144082655700683857517114751079601"
      ]
     },
     "execution_count": 95,
     "metadata": {},
     "output_type": "execute_result"
    }
   ],
   "source": [
    "d.convergent(100)"
   ]
  },
  {
   "cell_type": "code",
   "execution_count": null,
   "id": "4fd95497-482f-43b4-99ae-4ea0a8dd71d4",
   "metadata": {},
   "outputs": [],
   "source": []
  },
  {
   "cell_type": "code",
   "execution_count": 48,
   "id": "7a7888fc-6979-45b0-9861-3bd63c5d8684",
   "metadata": {},
   "outputs": [
    {
     "data": {
      "text/plain": [
       "[2; 2, 4, 2, 4, 2, 4, 2, 4, 2, 4, 2, 4, 2, 4, 2, 4, 2, 4, 2, ...]"
      ]
     },
     "execution_count": 48,
     "metadata": {},
     "output_type": "execute_result"
    }
   ],
   "source": [
    "y = sqrt(6)\n",
    "continued_fraction(y)\n"
   ]
  },
  {
   "cell_type": "code",
   "execution_count": 44,
   "id": "d53022e0-4e38-4946-9ec1-04e58d229a2d",
   "metadata": {},
   "outputs": [
    {
     "name": "stdout",
     "output_type": "stream",
     "text": [
      "Object `convergents` not found.\n"
     ]
    }
   ],
   "source": [
    "convergents?"
   ]
  },
  {
   "cell_type": "code",
   "execution_count": 82,
   "id": "ad00e76e-cb89-492a-bee2-f4b3661832e4",
   "metadata": {},
   "outputs": [
    {
     "data": {
      "text/plain": [
       "3/2"
      ]
     },
     "execution_count": 82,
     "metadata": {},
     "output_type": "execute_result"
    }
   ],
   "source": [
    "b= 52\n",
    "a = 23\n",
    "K.<sqrtalpha> = QuadraticField(b/a)\n",
    "cf = continued_fraction(sqrtalpha)\n",
    "l = cf.period_length()\n",
    "h = l/2\n",
    "cf.convergent(h-1)"
   ]
  },
  {
   "cell_type": "code",
   "execution_count": null,
   "id": "b2bfe32c-2018-475d-9338-4151e1e5dec8",
   "metadata": {},
   "outputs": [],
   "source": []
  }
 ],
 "metadata": {
  "kernelspec": {
   "display_name": "SageMath 10.4",
   "language": "sage",
   "name": "sagemath-10.4"
  },
  "language_info": {
   "codemirror_mode": {
    "name": "ipython",
    "version": 3
   },
   "file_extension": ".py",
   "mimetype": "text/x-python",
   "name": "python",
   "nbconvert_exporter": "python",
   "pygments_lexer": "ipython3",
   "version": "3.12.4"
  }
 },
 "nbformat": 4,
 "nbformat_minor": 5
}
